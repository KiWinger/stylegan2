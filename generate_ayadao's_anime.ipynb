{
  "nbformat": 4,
  "nbformat_minor": 0,
  "metadata": {
    "colab": {
      "name": "generate_ayadao's_anime",
      "provenance": [],
      "collapsed_sections": [],
      "include_colab_link": true
    },
    "kernelspec": {
      "name": "python3",
      "display_name": "Python 3"
    },
    "accelerator": "GPU"
  },
  "cells": [
    {
      "cell_type": "markdown",
      "metadata": {
        "id": "view-in-github",
        "colab_type": "text"
      },
      "source": [
        "<a href=\"https://colab.research.google.com/github/cedro3/stylegan2/blob/master/generate_ayadao's_anime.ipynb\" target=\"_parent\"><img src=\"https://colab.research.google.com/assets/colab-badge.svg\" alt=\"Open In Colab\"/></a>"
      ]
    },
    {
      "cell_type": "markdown",
      "metadata": {
        "id": "n2lHZhcg7WqA"
      },
      "source": [
        "# セットアップ"
      ]
    },
    {
      "cell_type": "code",
      "metadata": {
        "id": "Ixs37iA-Mxf2"
      },
      "source": [
        "# github からコードをコピー\n",
        "!git clone https://github.com/cedro3/stylegan2.git "
      ],
      "execution_count": null,
      "outputs": []
    },
    {
      "cell_type": "code",
      "metadata": {
        "id": "DQAEErakpkF2"
      },
      "source": [
        "# 学習済みの重みのダウンロード\n",
        "import gdown\n",
        "gdown.download('https://drive.google.com/u/1/uc?id=1_NUX9_xRGjce1KbCxT4frUsFWctlN4ZC', 'network-tadne.pkl', quiet=False)"
      ],
      "execution_count": null,
      "outputs": []
    },
    {
      "cell_type": "code",
      "metadata": {
        "id": "w_diRM7Fn1Pa"
      },
      "source": [
        "# TensorFlow_plugin セッティングと関数定義\n",
        "\n",
        "%tensorflow_version 1.x\n",
        "%cd /content/stylegan2\n",
        "from function import *"
      ],
      "execution_count": null,
      "outputs": []
    },
    {
      "cell_type": "markdown",
      "metadata": {
        "id": "NYBvJeogKFUy"
      },
      "source": [
        "# seedを指定して画像を生成\n"
      ]
    },
    {
      "cell_type": "code",
      "metadata": {
        "id": "PUD5bg5fKHcH"
      },
      "source": [
        "#@title Generate an image { run: \"auto\", form-width: \"30%\"}\n",
        "random_seed = 7719 #@param {type:\"integer\"}\n",
        "truncation_psi = 1.1 #@param {type:\"slider\", min:0, max:2, step:0.05}\n",
        "generate_images([random_seed], truncation_psi)"
      ],
      "execution_count": null,
      "outputs": []
    },
    {
      "cell_type": "markdown",
      "metadata": {
        "id": "RBSNTAxwPM-3"
      },
      "source": [
        "# ランダムに2枚の画像を生成"
      ]
    },
    {
      "cell_type": "code",
      "metadata": {
        "id": "EiOmsoZSta61"
      },
      "source": [
        "src_seed =  np.random.randint(0, 10000)\n",
        "dst_seed =  np.random.randint(0, 10000)\n",
        "blending = 0.5 \n",
        "truncation_psi = 0.8 \n",
        "generate_images([src_seed, dst_seed], truncation_psi)"
      ],
      "execution_count": null,
      "outputs": []
    },
    {
      "cell_type": "markdown",
      "metadata": {
        "id": "KtFqrtBy7wh9"
      },
      "source": [
        "# seedで指定した2枚の画像をブレンドして新たな画像を生成する"
      ]
    },
    {
      "cell_type": "code",
      "metadata": {
        "id": "W3l5K4JROS0g"
      },
      "source": [
        "#@title Blend two seeds { run: \"auto\", form-width: \"30%\"}\n",
        "src_seed =  21#@param {type:\"integer\"}\n",
        "dst_seed =  22#@param {type:\"integer\"}\n",
        "blending = 0.5 #@param {type:\"slider\", min:0, max:1, step:0.05}\n",
        "truncation_psi = 0.8 #@param {type:\"slider\", min:0, max:2, step:0.05}\n",
        "generate_images([src_seed, dst_seed], truncation_psi)\n",
        "\n",
        "print(\"Blended image (\", blending, \")\")\n",
        "blend_images(src_seed, dst_seed, blending=blending, truncation_psi=truncation_psi)"
      ],
      "execution_count": null,
      "outputs": []
    },
    {
      "cell_type": "markdown",
      "metadata": {
        "id": "7Qe12BRGKOnk"
      },
      "source": [
        "# seedで指定した2枚の画像を補完する"
      ]
    },
    {
      "cell_type": "code",
      "metadata": {
        "id": "u1TQISpYKR1P"
      },
      "source": [
        "#@title Generate an interpolation video { run: \"auto\", form-width: \"30%\"}\n",
        "src_seed =  8#@param {type:\"integer\"}\n",
        "dst_seed =  4484#@param {type:\"integer\"}\n",
        "truncation_psi = 0.7 #@param {type:\"slider\", min:0, max:1, step:0.05}\n",
        "duration_sec = 5.0 #@param {type:\"number\"}\n",
        "mp4_fps = 20 #@param {type:\"integer\"}\n",
        "generate_images([src_seed, dst_seed], truncation_psi)\n",
        "output_filename = interpolate_between_seeds(seed_array=[src_seed, dst_seed], truncation=truncation_psi, duration_sec=duration_sec, mp4_fps=mp4_fps)"
      ],
      "execution_count": null,
      "outputs": []
    },
    {
      "cell_type": "code",
      "metadata": {
        "id": "5mSf3mcD-168"
      },
      "source": [
        "display_mp4(output_filename)"
      ],
      "execution_count": null,
      "outputs": []
    },
    {
      "cell_type": "markdown",
      "metadata": {
        "id": "g4jjW6B4-c2c"
      },
      "source": [
        "# ランダムにグリッドで画像を補完する"
      ]
    },
    {
      "cell_type": "code",
      "metadata": {
        "id": "IUnU05mr4edb"
      },
      "source": [
        "#@title Generate an interpolation video { run: \"auto\", form-width: \"30%\" }\n",
        "random_seed = 999999 #@param {type:\"integer\"}\n",
        "duration_sec = 5 #@param {type:\"number\"}\n",
        "mp4_fps = 30 #@param {type:\"integer\"}\n",
        "grid_width =  2#@param {type:\"integer\"}\n",
        "grid_height =  2#@param {type:\"integer\"}\n",
        "output_filename = make_video(grid_size=[grid_width,grid_height], duration_sec=duration_sec, mp4_fps=mp4_fps, random_seed=random_seed)"
      ],
      "execution_count": null,
      "outputs": []
    },
    {
      "cell_type": "code",
      "metadata": {
        "id": "nktZUA7x_LFD"
      },
      "source": [
        "display_mp4(output_filename)"
      ],
      "execution_count": null,
      "outputs": []
    },
    {
      "cell_type": "markdown",
      "metadata": {
        "id": "IkWB3lHaldL4"
      },
      "source": [
        "# Interpolate between different truncation values for a given seed"
      ]
    },
    {
      "cell_type": "code",
      "metadata": {
        "id": "jFSll6INlh4i"
      },
      "source": [
        "#@title Interpolate between different truncation values { run: \"auto\", form-width: \"30%\"}\r\n",
        "seed = 7719 #@param {type:\"integer\"}\r\n",
        "min_truncation = 0.3 #@param {type:\"slider\", min:0, max:2, step:0.05}\r\n",
        "max_truncation = 2.0 #@param {type:\"slider\", min:0, max:2, step:0.05}\r\n",
        "duration_sec = 1.0 #@param {type:\"number\"}\r\n",
        "mp4_fps = 20 #@param {type:\"integer\"}\r\n",
        "output_filename = interpolate_psi(seed=seed, min_truncation=min_truncation, max_truncation=max_truncation, duration_sec=duration_sec, smoothing_sec = 1.0, mp4_fps=mp4_fps)"
      ],
      "execution_count": null,
      "outputs": []
    },
    {
      "cell_type": "code",
      "metadata": {
        "id": "AkQkR9pfn1fV"
      },
      "source": [
        "display_mp4(output_filename)"
      ],
      "execution_count": null,
      "outputs": []
    }
  ]
}