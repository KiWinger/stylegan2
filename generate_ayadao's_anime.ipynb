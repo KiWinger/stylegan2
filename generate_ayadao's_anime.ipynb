{
 "cells": [
  {
   "cell_type": "markdown",
   "metadata": {
    "colab_type": "text",
    "id": "view-in-github"
   },
   "source": [
    "<a href=\"https://colab.research.google.com/github/cedro3/stylegan2/blob/master/generate_ayadao's_anime.ipynb\" target=\"_parent\"><img src=\"https://colab.research.google.com/assets/colab-badge.svg\" alt=\"Open In Colab\"/></a>"
   ]
  },
  {
   "cell_type": "markdown",
   "metadata": {
    "id": "n2lHZhcg7WqA"
   },
   "source": [
    "# セットアップ"
   ]
  },
  {
   "cell_type": "code",
   "execution_count": null,
   "metadata": {
    "id": "Ixs37iA-Mxf2"
   },
   "outputs": [],
   "source": [
    "# github からコードをコピー\n",
    "!git clone https://github.com/cedro3/stylegan2.git "
   ]
  },
  {
   "cell_type": "code",
   "execution_count": null,
   "metadata": {
    "id": "DQAEErakpkF2"
   },
   "outputs": [],
   "source": [
    "# 学習済みの重みのダウンロード\n",
    "import gdown\n",
    "gdown.download('https://drive.google.com/u/1/uc?id=1_NUX9_xRGjce1KbCxT4frUsFWctlN4ZC', 'network-tadne.pkl', quiet=False)"
   ]
  },
  {
   "cell_type": "code",
   "execution_count": null,
   "metadata": {
    "id": "w_diRM7Fn1Pa"
   },
   "outputs": [],
   "source": [
    "# TensorFlow_plugin セッティングと関数定義\n",
    "%tensorflow_version 1.x\n",
    "%cd /content/stylegan2\n",
    "from function import *"
   ]
  },
  {
   "cell_type": "markdown",
   "metadata": {
    "id": "KtFqrtBy7wh9"
   },
   "source": [
    "# seedで指定した2枚の画像をブレンドした画像を生成する"
   ]
  },
  {
   "cell_type": "code",
   "execution_count": null,
   "metadata": {
    "id": "W3l5K4JROS0g"
   },
   "outputs": [],
   "source": [
    "src_seed =  1149  \n",
    "dst_seed =  2631  \n",
    "blending = 0.5 \n",
    "truncation_psi = 0.8 \n",
    "generate_images([src_seed, dst_seed], truncation_psi)\n",
    "\n",
    "print(\"Blended image (\", blending, \")\")\n",
    "blend_images(src_seed, dst_seed, blending=blending, truncation_psi=truncation_psi)"
   ]
  },
  {
   "cell_type": "markdown",
   "metadata": {},
   "source": [
    "# seedで指定した2枚の画像を補完する動画を生成する"
   ]
  },
  {
   "cell_type": "code",
   "execution_count": null,
   "metadata": {
    "id": "u1TQISpYKR1P"
   },
   "outputs": [],
   "source": [
    "src_seed =  5126\n",
    "dst_seed =  5805\n",
    "truncation_psi = 0.7 \n",
    "duration_sec = 5.0 \n",
    "mp4_fps = 20\n",
    "\n",
    "generate_images([src_seed, dst_seed], truncation_psi)\n",
    "output_filename = interpolate_between_seeds(seed_array=[src_seed, dst_seed], truncation=truncation_psi, duration_sec=duration_sec, mp4_fps=mp4_fps)"
   ]
  },
  {
   "cell_type": "code",
   "execution_count": null,
   "metadata": {
    "id": "5mSf3mcD-168"
   },
   "outputs": [],
   "source": [
    "display_mp4(output_filename)"
   ]
  },
  {
   "cell_type": "markdown",
   "metadata": {
    "id": "g4jjW6B4-c2c"
   },
   "source": [
    "# seedで指定してグリッドで補完画像を生成する"
   ]
  },
  {
   "cell_type": "code",
   "execution_count": null,
   "metadata": {
    "id": "IUnU05mr4edb"
   },
   "outputs": [],
   "source": [
    "random_seed = 11  \n",
    "duration_sec = 5 \n",
    "mp4_fps = 30 \n",
    "grid_width =  2\n",
    "grid_height =  2\n",
    "\n",
    "output_filename = make_video(grid_size=[grid_width,grid_height], duration_sec=duration_sec, mp4_fps=mp4_fps, random_seed=random_seed)"
   ]
  },
  {
   "cell_type": "code",
   "execution_count": null,
   "metadata": {
    "id": "nktZUA7x_LFD"
   },
   "outputs": [],
   "source": [
    "display_mp4(output_filename)"
   ]
  }
 ],
 "metadata": {
  "accelerator": "GPU",
  "colab": {
   "collapsed_sections": [],
   "include_colab_link": true,
   "name": "generate_ayadao's_anime",
   "provenance": []
  },
  "kernelspec": {
   "display_name": "Python 3",
   "language": "python",
   "name": "python3"
  },
  "language_info": {
   "codemirror_mode": {
    "name": "ipython",
    "version": 3
   },
   "file_extension": ".py",
   "mimetype": "text/x-python",
   "name": "python",
   "nbconvert_exporter": "python",
   "pygments_lexer": "ipython3",
   "version": "3.7.9"
  }
 },
 "nbformat": 4,
 "nbformat_minor": 1
}
